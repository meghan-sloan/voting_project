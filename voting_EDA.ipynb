{
 "cells": [
  {
   "cell_type": "code",
   "execution_count": 1,
   "metadata": {},
   "outputs": [],
   "source": [
    "import pandas as pd"
   ]
  },
  {
   "cell_type": "code",
   "execution_count": 11,
   "metadata": {},
   "outputs": [],
   "source": [
    "# Use pandas to open the csv files into dataframes\n",
    "df_addresses = pd.read_csv('/Users/meghan/Downloads/addresses.csv')\n",
    "df_polling = pd.read_csv('/Users/meghan/Downloads/precinct_polling_list.csv')"
   ]
  },
  {
   "cell_type": "code",
   "execution_count": 12,
   "metadata": {},
   "outputs": [
    {
     "data": {
      "text/html": [
       "<div>\n",
       "<style>\n",
       "    .dataframe thead tr:only-child th {\n",
       "        text-align: right;\n",
       "    }\n",
       "\n",
       "    .dataframe thead th {\n",
       "        text-align: left;\n",
       "    }\n",
       "\n",
       "    .dataframe tbody tr th {\n",
       "        vertical-align: top;\n",
       "    }\n",
       "</style>\n",
       "<table border=\"1\" class=\"dataframe\">\n",
       "  <thead>\n",
       "    <tr style=\"text-align: right;\">\n",
       "      <th></th>\n",
       "      <th>Street</th>\n",
       "      <th>Apt</th>\n",
       "      <th>City</th>\n",
       "      <th>State</th>\n",
       "      <th>Zip</th>\n",
       "      <th>Precinct ID</th>\n",
       "    </tr>\n",
       "  </thead>\n",
       "  <tbody>\n",
       "    <tr>\n",
       "      <th>0</th>\n",
       "      <td>7 BEACON BLVD</td>\n",
       "      <td>NaN</td>\n",
       "      <td>PEABODY</td>\n",
       "      <td>MA</td>\n",
       "      <td>01960-6303</td>\n",
       "      <td>025-090</td>\n",
       "    </tr>\n",
       "    <tr>\n",
       "      <th>1</th>\n",
       "      <td>1847 TOWER DR</td>\n",
       "      <td>NaN</td>\n",
       "      <td>STOUGHTON</td>\n",
       "      <td>WI</td>\n",
       "      <td>53589-3539</td>\n",
       "      <td>055-015</td>\n",
       "    </tr>\n",
       "    <tr>\n",
       "      <th>2</th>\n",
       "      <td>4628 GREEN VALLEY RD</td>\n",
       "      <td>NaN</td>\n",
       "      <td>FAIRFIELD</td>\n",
       "      <td>CA</td>\n",
       "      <td>94534-1368</td>\n",
       "      <td>006-009</td>\n",
       "    </tr>\n",
       "    <tr>\n",
       "      <th>3</th>\n",
       "      <td>14 HALET ST</td>\n",
       "      <td>NaN</td>\n",
       "      <td>PORTLAND</td>\n",
       "      <td>ME</td>\n",
       "      <td>04102-1734</td>\n",
       "      <td>023-089</td>\n",
       "    </tr>\n",
       "    <tr>\n",
       "      <th>4</th>\n",
       "      <td>1606 BLACKBURN HEIGHTS DR</td>\n",
       "      <td>NaN</td>\n",
       "      <td>SEWICKLEY</td>\n",
       "      <td>PA</td>\n",
       "      <td>15143-8626</td>\n",
       "      <td>042-018</td>\n",
       "    </tr>\n",
       "  </tbody>\n",
       "</table>\n",
       "</div>"
      ],
      "text/plain": [
       "                      Street  Apt       City State         Zip Precinct ID\n",
       "0              7 BEACON BLVD  NaN    PEABODY    MA  01960-6303     025-090\n",
       "1              1847 TOWER DR  NaN  STOUGHTON    WI  53589-3539     055-015\n",
       "2       4628 GREEN VALLEY RD  NaN  FAIRFIELD    CA  94534-1368     006-009\n",
       "3                14 HALET ST  NaN   PORTLAND    ME  04102-1734     023-089\n",
       "4  1606 BLACKBURN HEIGHTS DR  NaN  SEWICKLEY    PA  15143-8626     042-018"
      ]
     },
     "execution_count": 12,
     "metadata": {},
     "output_type": "execute_result"
    }
   ],
   "source": [
    "# Take a look at the structure of each csv\n",
    "df_addresses.head()"
   ]
  },
  {
   "cell_type": "code",
   "execution_count": 13,
   "metadata": {},
   "outputs": [
    {
     "data": {
      "text/html": [
       "<div>\n",
       "<style>\n",
       "    .dataframe thead tr:only-child th {\n",
       "        text-align: right;\n",
       "    }\n",
       "\n",
       "    .dataframe thead th {\n",
       "        text-align: left;\n",
       "    }\n",
       "\n",
       "    .dataframe tbody tr th {\n",
       "        vertical-align: top;\n",
       "    }\n",
       "</style>\n",
       "<table border=\"1\" class=\"dataframe\">\n",
       "  <thead>\n",
       "    <tr style=\"text-align: right;\">\n",
       "      <th></th>\n",
       "      <th>Street</th>\n",
       "      <th>City</th>\n",
       "      <th>State/ZIP</th>\n",
       "      <th>Country</th>\n",
       "      <th>Precinct</th>\n",
       "    </tr>\n",
       "  </thead>\n",
       "  <tbody>\n",
       "    <tr>\n",
       "      <th>0</th>\n",
       "      <td>288 York Street</td>\n",
       "      <td>New Haven</td>\n",
       "      <td>CT 06511</td>\n",
       "      <td>USA</td>\n",
       "      <td>CON-069</td>\n",
       "    </tr>\n",
       "    <tr>\n",
       "      <th>1</th>\n",
       "      <td>301-399 South Boulevard Drive</td>\n",
       "      <td>Bainbridge</td>\n",
       "      <td>GA 39819</td>\n",
       "      <td>USA</td>\n",
       "      <td>GEO-062</td>\n",
       "    </tr>\n",
       "    <tr>\n",
       "      <th>2</th>\n",
       "      <td>150-151 Tremont Street</td>\n",
       "      <td>Boston</td>\n",
       "      <td>MA 02111</td>\n",
       "      <td>USA</td>\n",
       "      <td>MAS-111</td>\n",
       "    </tr>\n",
       "    <tr>\n",
       "      <th>3</th>\n",
       "      <td>2395 Ingleside Avenue</td>\n",
       "      <td>Macon</td>\n",
       "      <td>GA 31204</td>\n",
       "      <td>USA</td>\n",
       "      <td>GEO-041</td>\n",
       "    </tr>\n",
       "    <tr>\n",
       "      <th>4</th>\n",
       "      <td>1007 Merchant Street</td>\n",
       "      <td>Ambridge</td>\n",
       "      <td>PA 15003</td>\n",
       "      <td>USA</td>\n",
       "      <td>MAS-018</td>\n",
       "    </tr>\n",
       "  </tbody>\n",
       "</table>\n",
       "</div>"
      ],
      "text/plain": [
       "                          Street        City State/ZIP Country Precinct\n",
       "0                288 York Street   New Haven  CT 06511     USA  CON-069\n",
       "1  301-399 South Boulevard Drive  Bainbridge  GA 39819     USA  GEO-062\n",
       "2         150-151 Tremont Street      Boston  MA 02111     USA  MAS-111\n",
       "3          2395 Ingleside Avenue       Macon  GA 31204     USA  GEO-041\n",
       "4           1007 Merchant Street    Ambridge  PA 15003     USA  MAS-018"
      ]
     },
     "execution_count": 13,
     "metadata": {},
     "output_type": "execute_result"
    }
   ],
   "source": [
    "df_polling.head()"
   ]
  },
  {
   "cell_type": "code",
   "execution_count": 14,
   "metadata": {},
   "outputs": [
    {
     "name": "stdout",
     "output_type": "stream",
     "text": [
      "<class 'pandas.core.frame.DataFrame'>\n",
      "RangeIndex: 41 entries, 0 to 40\n",
      "Data columns (total 6 columns):\n",
      "Street         41 non-null object\n",
      "Apt            2 non-null object\n",
      "City           41 non-null object\n",
      "State          41 non-null object\n",
      "Zip            41 non-null object\n",
      "Precinct ID    41 non-null object\n",
      "dtypes: object(6)\n",
      "memory usage: 2.0+ KB\n"
     ]
    }
   ],
   "source": [
    "# See if there are missing values\n",
    "df_addresses.info()"
   ]
  },
  {
   "cell_type": "code",
   "execution_count": 16,
   "metadata": {},
   "outputs": [
    {
     "name": "stdout",
     "output_type": "stream",
     "text": [
      "<class 'pandas.core.frame.DataFrame'>\n",
      "RangeIndex: 33 entries, 0 to 32\n",
      "Data columns (total 5 columns):\n",
      "Street       33 non-null object\n",
      "City         33 non-null object\n",
      "State/ZIP    33 non-null object\n",
      "Country      31 non-null object\n",
      "Precinct     29 non-null object\n",
      "dtypes: object(5)\n",
      "memory usage: 1.4+ KB\n"
     ]
    }
   ],
   "source": [
    "df_polling.info()"
   ]
  },
  {
   "cell_type": "code",
   "execution_count": 17,
   "metadata": {},
   "outputs": [
    {
     "data": {
      "text/html": [
       "<div>\n",
       "<style>\n",
       "    .dataframe thead tr:only-child th {\n",
       "        text-align: right;\n",
       "    }\n",
       "\n",
       "    .dataframe thead th {\n",
       "        text-align: left;\n",
       "    }\n",
       "\n",
       "    .dataframe tbody tr th {\n",
       "        vertical-align: top;\n",
       "    }\n",
       "</style>\n",
       "<table border=\"1\" class=\"dataframe\">\n",
       "  <thead>\n",
       "    <tr style=\"text-align: right;\">\n",
       "      <th></th>\n",
       "      <th>Street</th>\n",
       "      <th>City</th>\n",
       "      <th>State/ZIP</th>\n",
       "      <th>Country</th>\n",
       "      <th>Precinct</th>\n",
       "    </tr>\n",
       "  </thead>\n",
       "  <tbody>\n",
       "    <tr>\n",
       "      <th>6</th>\n",
       "      <td>974 Great Plain Avenue Needham MA 02492</td>\n",
       "      <td>USA</td>\n",
       "      <td>MAS-006</td>\n",
       "      <td>NaN</td>\n",
       "      <td>NaN</td>\n",
       "    </tr>\n",
       "    <tr>\n",
       "      <th>13</th>\n",
       "      <td>29 Godwin Avenue</td>\n",
       "      <td>Ridgewood NJ 07450</td>\n",
       "      <td>USA</td>\n",
       "      <td>NEWJ-000</td>\n",
       "      <td>NaN</td>\n",
       "    </tr>\n",
       "    <tr>\n",
       "      <th>23</th>\n",
       "      <td>1782 Massachusetts Ave Cambridge MA 02140</td>\n",
       "      <td>USA</td>\n",
       "      <td>MAS-070</td>\n",
       "      <td>NaN</td>\n",
       "      <td>NaN</td>\n",
       "    </tr>\n",
       "    <tr>\n",
       "      <th>30</th>\n",
       "      <td>2035 East North Avenue Milwaukee WI</td>\n",
       "      <td>53211</td>\n",
       "      <td>USA</td>\n",
       "      <td>WIS-067</td>\n",
       "      <td>NaN</td>\n",
       "    </tr>\n",
       "  </tbody>\n",
       "</table>\n",
       "</div>"
      ],
      "text/plain": [
       "                                       Street                City State/ZIP  \\\n",
       "6     974 Great Plain Avenue Needham MA 02492                 USA   MAS-006   \n",
       "13                           29 Godwin Avenue  Ridgewood NJ 07450       USA   \n",
       "23  1782 Massachusetts Ave Cambridge MA 02140                 USA   MAS-070   \n",
       "30        2035 East North Avenue Milwaukee WI               53211       USA   \n",
       "\n",
       "     Country Precinct  \n",
       "6        NaN      NaN  \n",
       "13  NEWJ-000      NaN  \n",
       "23       NaN      NaN  \n",
       "30   WIS-067      NaN  "
      ]
     },
     "execution_count": 17,
     "metadata": {},
     "output_type": "execute_result"
    }
   ],
   "source": [
    "# Note precinct has missing data--take a look at missing data:\n",
    "df_polling[df_polling.isnull().any(axis=1)]"
   ]
  },
  {
   "cell_type": "code",
   "execution_count": null,
   "metadata": {},
   "outputs": [],
   "source": [
    "# The precinct is not missing, it is just in the wrong column.  \n",
    "#Since there are only 4 rows, this can be fixed manually."
   ]
  }
 ],
 "metadata": {
  "kernelspec": {
   "display_name": "Python 3",
   "language": "python",
   "name": "python3"
  },
  "language_info": {
   "codemirror_mode": {
    "name": "ipython",
    "version": 3
   },
   "file_extension": ".py",
   "mimetype": "text/x-python",
   "name": "python",
   "nbconvert_exporter": "python",
   "pygments_lexer": "ipython3",
   "version": "3.6.1"
  }
 },
 "nbformat": 4,
 "nbformat_minor": 2
}
